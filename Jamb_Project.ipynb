{
 "cells": [
  {
   "cell_type": "markdown",
   "id": "2e9e1a0b-7a3b-43fa-9bf5-9073564dfb9d",
   "metadata": {},
   "source": [
    "## Import Neccessary Libraries"
   ]
  },
  {
   "cell_type": "code",
   "execution_count": 1,
   "id": "e453e975-13f7-44e4-abe8-be3617840b3e",
   "metadata": {},
   "outputs": [],
   "source": [
    "import pymysql  # connector for python and mysql\n",
    "import warnings \n",
    "import pandas as pd # data manipulation\n",
    "import seaborn as sns\n",
    "import matplotlib.pyplot as plt\n",
    "from sklearn.model_selection import train_test_split\n",
    "from sklearn.linear_model import LinearRegression\n",
    "from sklearn.tree import DecisionTreeRegressor\n",
    "from sklearn.ensemble import RandomForestRegressor\n",
    "from xgboost import XGBRegressor\n",
    "from sklearn.metrics import mean_absolute_error, mean_absolute_percentage_error, r2_score"
   ]
  },
  {
   "cell_type": "markdown",
   "id": "1ab31c3a-0e8c-4578-a621-46923695b928",
   "metadata": {},
   "source": [
    "## Connect Jupyter Notebook With Jamb Project Database"
   ]
  },
  {
   "cell_type": "code",
   "execution_count": 2,
   "id": "721e4536-6169-4ad4-bc4b-404eabea2c17",
   "metadata": {},
   "outputs": [
    {
     "name": "stdout",
     "output_type": "stream",
     "text": [
      "Jamb Project Database Connected!\n"
     ]
    }
   ],
   "source": [
    "def connect_mysql():\n",
    "    \"\"\"\n",
    "    connecting the jamb project database with jupyter notebook\n",
    "    \"\"\"\n",
    "    con_db = pymysql.connect(\n",
    "        host = \"localhost\",\n",
    "        user = \"root\",\n",
    "        password = \"***ileh***.\",  ## password encoded please the csv file to load the data\n",
    "        database = \"jamb_project\"\n",
    "    )\n",
    "    cursor = con_db.cursor()  \n",
    "    return con_db, cursor\n",
    "\n",
    "con, cursor = connect_mysql()  # defining the connection and cursor\n",
    "print(\"Jamb Project Database Connected!\")\n",
    "\n",
    "\n",
    "\n"
   ]
  },
  {
   "cell_type": "markdown",
   "id": "f7f40d19-1c81-49ca-b70d-e8f9f795139f",
   "metadata": {},
   "source": [
    "## Show Tables in Database"
   ]
  },
  {
   "cell_type": "code",
   "execution_count": 3,
   "id": "a0f8ae9d-0fc2-4787-8fcd-9fb639cd5fe9",
   "metadata": {},
   "outputs": [
    {
     "name": "stdout",
     "output_type": "stream",
     "text": [
      "('jamb_score',)\n"
     ]
    }
   ],
   "source": [
    "def show_tables(connection,pointer,database_name):\n",
    "    use_db = f\"use {database_name}\"  # selecting the database \n",
    "    pointer.execute(use_db)\n",
    "    show_tables = \"show tables\"\n",
    "    pointer.execute(show_tables)\n",
    "    result = pointer.fetchall()\n",
    "    for i in result:\n",
    "        print(i)\n",
    "\n",
    "show_tables(con,cursor,\"jamb_project\")\n",
    "    "
   ]
  },
  {
   "cell_type": "markdown",
   "id": "b27f7b60-46f6-4c93-87ff-34e7742e57e8",
   "metadata": {},
   "source": [
    "## View A Table in The Database And Read As A Python Dataframe"
   ]
  },
  {
   "cell_type": "code",
   "execution_count": 4,
   "id": "e2ee0709-8fe2-4f24-9e57-fbf1a88fd47d",
   "metadata": {},
   "outputs": [
    {
     "name": "stderr",
     "output_type": "stream",
     "text": [
      "C:\\Users\\user\\AppData\\Local\\Temp\\ipykernel_17796\\3891057560.py:8: UserWarning: pandas only supports SQLAlchemy connectable (engine/connection) or database string URI or sqlite3 DBAPI2 connection. Other DBAPI2 objects are not tested. Please consider using SQLAlchemy.\n",
      "  data = pd.read_sql(query_statement, connection) # Reading the table as pandas dataframe and defining it\n"
     ]
    }
   ],
   "source": [
    "def query_table(connection,table):\n",
    "    \"\"\"\n",
    "    Querying a Table from the Database\n",
    "    \"\"\"\n",
    "    query_statement = f\"select * from {table}\"\n",
    "    \n",
    "    import pandas as pd \n",
    "    data = pd.read_sql(query_statement, connection) # Reading the table as pandas dataframe and defining it\n",
    "    return data\n",
    "\n",
    "df = query_table(con,\"jamb_score\") \n",
    "    "
   ]
  },
  {
   "cell_type": "code",
   "execution_count": 5,
   "id": "56727851-78d7-43c5-8b80-50180beaf679",
   "metadata": {},
   "outputs": [
    {
     "name": "stdout",
     "output_type": "stream",
     "text": [
      "The data has (4999, 17) rows and columsn respectively\n",
      "\n",
      "The following are the columns in the dataframe\n",
      "Index(['Jamb_Score', 'Age', 'Study_Hours_Per_Week', 'Attendance_Rate',\n",
      "       'Teacher_Quality', 'Distance_To_School', 'Assignments_Completed',\n",
      "       'School_Type', 'School_Location', 'Extra_Tutorials',\n",
      "       'Access_To_Learning_Materials', 'Parent_Involvement', 'IT_Knowledge',\n",
      "       'Student_ID', 'Gender', 'Socioeconomic_Status',\n",
      "       'Parent_Education_Level'],\n",
      "      dtype='object')\n",
      "\n",
      "<class 'pandas.core.frame.DataFrame'>\n",
      "RangeIndex: 4999 entries, 0 to 4998\n",
      "Data columns (total 17 columns):\n",
      " #   Column                        Non-Null Count  Dtype  \n",
      "---  ------                        --------------  -----  \n",
      " 0   jamb_score                    4999 non-null   int64  \n",
      " 1   age                           4999 non-null   int64  \n",
      " 2   study_hours_per_week          4999 non-null   int64  \n",
      " 3   attendance_rate               4999 non-null   int64  \n",
      " 4   teacher_quality               4999 non-null   int64  \n",
      " 5   distance_to_school            4999 non-null   float64\n",
      " 6   assignments_completed         4999 non-null   int64  \n",
      " 7   school_type                   4999 non-null   object \n",
      " 8   school_location               4999 non-null   object \n",
      " 9   extra_tutorials               4999 non-null   object \n",
      " 10  access_to_learning_materials  4999 non-null   object \n",
      " 11  parent_involvement            4999 non-null   object \n",
      " 12  it_knowledge                  4999 non-null   object \n",
      " 13  student_id                    4999 non-null   object \n",
      " 14  gender                        4999 non-null   object \n",
      " 15  socioeconomic_status          4999 non-null   object \n",
      " 16  parent_education_level        4999 non-null   object \n",
      "dtypes: float64(1), int64(6), object(10)\n",
      "memory usage: 664.1+ KB\n",
      "None\n"
     ]
    }
   ],
   "source": [
    "def examine_data(data):\n",
    "    data = data.copy()\n",
    "    print(f\"The data has {data.shape} rows and columsn respectively\")\n",
    "    print()\n",
    "    print(\"The following are the columns in the dataframe\")\n",
    "    columns = data.columns\n",
    "    print(columns)\n",
    "    print()\n",
    "    data.columns = data.columns.str.lower()  # converting column case to lower case\n",
    "    data.columns = data.columns.str.strip()  # stripping extra spaces from the column names\n",
    "    data.columns = data.columns.str.replace(\" \", \"_\") # repacing the spaces between text with \"_\"\n",
    "    structure = data.info()\n",
    "    print(structure)\n",
    "    return data\n",
    "\n",
    "df = examine_data(df)\n",
    "    "
   ]
  },
  {
   "cell_type": "code",
   "execution_count": 6,
   "id": "5dc1594a-b8ac-4dea-85ff-687aa3663318",
   "metadata": {},
   "outputs": [
    {
     "name": "stdout",
     "output_type": "stream",
     "text": [
      "   jamb_score  age  study_hours_per_week  attendance_rate  teacher_quality  \\\n",
      "0         207   15                    14               88                4   \n",
      "1         182   20                    29               87                2   \n",
      "2         210   22                    29               99                2   \n",
      "3         199   22                    12               98                3   \n",
      "4         202   15                    25               85                2   \n",
      "5         251   16                    35               85                4   \n",
      "6         129   19                    27               75                3   \n",
      "7         220   19                    23               85                3   \n",
      "8         157   20                    15               79                3   \n",
      "9         188   22                    32               90                2   \n",
      "\n",
      "   distance_to_school  assignments_completed school_type school_location  \\\n",
      "0                 2.7                      1      Public           Rural   \n",
      "1                 9.6                      2      Public           Rural   \n",
      "2                 2.6                      1      Public           Urban   \n",
      "3                 8.8                      1      Public           Urban   \n",
      "4                13.6                      1      Public           Urban   \n",
      "5                 2.6                      4      Public           Urban   \n",
      "6                 9.4                      3      Public           Urban   \n",
      "7                 4.6                      1      Public           Rural   \n",
      "8                15.6                      1      Public           Rural   \n",
      "9                 4.5                      3     Private           Rural   \n",
      "\n",
      "  extra_tutorials access_to_learning_materials parent_involvement  \\\n",
      "0              No                          Yes               High   \n",
      "1             Yes                          Yes               High   \n",
      "2              No                          Yes             Medium   \n",
      "3              No                          Yes             Medium   \n",
      "4             Yes                           No             Medium   \n",
      "5              No                          Yes                Low   \n",
      "6              No                          Yes                Low   \n",
      "7              No                           No                Low   \n",
      "8              No                          Yes                Low   \n",
      "9              No                           No                Low   \n",
      "\n",
      "  it_knowledge student_id  gender socioeconomic_status parent_education_level  \n",
      "0         High          2    Male                 High                Unknown  \n",
      "1       Medium          3  Female                 High               Tertiary  \n",
      "2         High          4  Female               Medium               Tertiary  \n",
      "3       Medium          5  Female               Medium               Tertiary  \n",
      "4          Low          6    Male                  Low               Tertiary  \n",
      "5       Medium          7  Female               Medium                Primary  \n",
      "6       Medium          8  Female                  Low               Tertiary  \n",
      "7       Medium          9  Female               Medium               Tertiary  \n",
      "8          Low         10  Female               Medium                Unknown  \n",
      "9       Medium         11    Male               Medium              Secondary  \n"
     ]
    }
   ],
   "source": [
    "data_overview = df.head(10) \n",
    "print(data_overview) ## printing the first 10  rows of the dataset"
   ]
  },
  {
   "cell_type": "markdown",
   "id": "8079adfe-0110-4883-b316-221ec4ab9dc1",
   "metadata": {},
   "source": [
    "## Data Cleaning and Wrangling "
   ]
  },
  {
   "cell_type": "code",
   "execution_count": 7,
   "id": "d8aa0265-220a-4a3b-b22e-d715f19abde8",
   "metadata": {},
   "outputs": [],
   "source": [
    "df = df.rename(columns={\"jamb_score\":\"score\"})  ## renaming jamb_score to score "
   ]
  },
  {
   "cell_type": "code",
   "execution_count": 8,
   "id": "5e66d923-7cb7-4c39-8e58-bc3eedebc5e4",
   "metadata": {},
   "outputs": [
    {
     "name": "stdout",
     "output_type": "stream",
     "text": [
      "0\n"
     ]
    }
   ],
   "source": [
    "duplicated_row = df.duplicated().sum()  ## identifying duplicated rows in the dataset\n",
    "print(duplicated_row)"
   ]
  },
  {
   "cell_type": "code",
   "execution_count": 9,
   "id": "bcdf203c-e75b-4662-9ec3-6a8b993c70c3",
   "metadata": {},
   "outputs": [
    {
     "name": "stdout",
     "output_type": "stream",
     "text": [
      "score                           0\n",
      "age                             0\n",
      "study_hours_per_week            0\n",
      "attendance_rate                 0\n",
      "teacher_quality                 0\n",
      "distance_to_school              0\n",
      "assignments_completed           0\n",
      "school_type                     0\n",
      "school_location                 0\n",
      "extra_tutorials                 0\n",
      "access_to_learning_materials    0\n",
      "parent_involvement              0\n",
      "it_knowledge                    0\n",
      "student_id                      0\n",
      "gender                          0\n",
      "socioeconomic_status            0\n",
      "parent_education_level          0\n",
      "dtype: int64\n"
     ]
    }
   ],
   "source": [
    "missing_value = df.isna().sum() ## Identifying the missing values in the dataset\n",
    "print(missing_value)"
   ]
  },
  {
   "cell_type": "code",
   "execution_count": 10,
   "id": "80c7fe66-ff7b-4760-86a7-155f4d4fa211",
   "metadata": {},
   "outputs": [
    {
     "name": "stdout",
     "output_type": "stream",
     "text": [
      "Columns Splitted Successfully\n"
     ]
    }
   ],
   "source": [
    "num_cols = df.select_dtypes(include=[\"int\",\"float\"]).columns  ## identyfying numeric columns in the dataset\n",
    "cat_cols = df.select_dtypes(\"object\").columns  ## Identifying categorical columns in the dataset\n",
    "print(\"Columns Splitted Successfully\")\n"
   ]
  },
  {
   "cell_type": "code",
   "execution_count": 11,
   "id": "e5a4a762-4739-4367-ac8e-9ce8e492b3c9",
   "metadata": {},
   "outputs": [
    {
     "name": "stdout",
     "output_type": "stream",
     "text": [
      "                        count        mean        std    min    25%    50%  \\\n",
      "score                  4999.0  174.071014  47.620565  100.0  135.0  170.0   \n",
      "age                    4999.0   18.446089   2.301644   15.0   16.0   18.0   \n",
      "study_hours_per_week   4999.0   19.520704   9.635469    0.0   13.0   19.0   \n",
      "attendance_rate        4999.0   84.236447   9.486227   50.0   78.0   84.0   \n",
      "teacher_quality        4999.0    2.521104   0.985441    1.0    2.0    2.0   \n",
      "distance_to_school     4999.0   10.004981   4.820584    0.0    6.6   10.0   \n",
      "assignments_completed  4999.0    1.804561   0.992172    1.0    1.0    1.0   \n",
      "\n",
      "                         75%    max  \n",
      "score                  209.0  367.0  \n",
      "age                     20.0   22.0  \n",
      "study_hours_per_week    26.0   40.0  \n",
      "attendance_rate         91.0  100.0  \n",
      "teacher_quality          3.0    5.0  \n",
      "distance_to_school      13.4   20.0  \n",
      "assignments_completed    2.0    5.0  \n"
     ]
    }
   ],
   "source": [
    "summary_stat = df[num_cols].describe().T  ## descriptive statistic of the numeric columns in the dataset\n",
    "print(summary_stat)"
   ]
  },
  {
   "cell_type": "code",
   "execution_count": 12,
   "id": "dd73d116-c77d-48eb-9e8e-6624c4528b56",
   "metadata": {},
   "outputs": [
    {
     "data": {
      "image/png": "[encoded data removed]",
      "text/plain": [
       "<Figure size 640x480 with 1 Axes>"
      ]
     },
     "metadata": {},
     "output_type": "display_data"
    },
    {
     "data": {
      "text/plain": [
       "<Figure size 400x400 with 0 Axes>"
      ]
     },
     "metadata": {},
     "output_type": "display_data"
    }
   ],
   "source": [
    "jamb_score_plot = sns.histplot(df,x=\"score\", kde = True)\n",
    "plt.title(\"Jamb Score Distribution\")\n",
    "plt.xlabel(\"Jamb Score\")\n",
    "plt.figure(figsize=(4,4))\n",
    "plt.show()"
   ]
  },
  {
   "cell_type": "markdown",
   "id": "14b5e9e2-3df2-4dd9-9afe-1cc217f5ea11",
   "metadata": {},
   "source": [
    "## Score Skewness\r\n",
    "\r\n",
    "Since the mean (174.07) is slightly higher than the median (170.0), and the max (367.0) is far above the mean, the **score** is likely **positively skewed**. This means that while most students score near the middle range, there are a few high outliers pulling the distribution to the right.\r\n"
   ]
  },
  {
   "cell_type": "markdown",
   "id": "e8cfd9da-406c-4c50-87d0-251c24f92901",
   "metadata": {},
   "source": [
    "## Correlation Analysis"
   ]
  },
  {
   "cell_type": "code",
   "execution_count": 13,
   "id": "950501db-b6fb-49c8-98bc-6bc670775ad5",
   "metadata": {},
   "outputs": [
    {
     "name": "stdout",
     "output_type": "stream",
     "text": [
      "score                    1.000000\n",
      "age                     -0.028386\n",
      "study_hours_per_week     0.420051\n",
      "attendance_rate          0.281019\n",
      "teacher_quality          0.299464\n",
      "distance_to_school      -0.094183\n",
      "assignments_completed    0.278069\n",
      "Name: score, dtype: float64\n"
     ]
    }
   ],
   "source": [
    "correlation = df[num_cols].corr()[\"score\"] ## CORRELATION ANALYSIS\n",
    "print(correlation)"
   ]
  },
  {
   "cell_type": "markdown",
   "id": "e78f30ba-04b7-4ff8-bd70-d4344ad2d232",
   "metadata": {},
   "source": [
    "### Correlation Insights\r\n",
    "\r\n",
    "- **Study hours per week** has the strongest correlation with the score, indicating that study time is a significant predictor of performance.\r\n",
    "- **Teacher quality**, **attendance rate**, and **assignments completed** also have positive correlations, but their impact is weaker.\r\n",
    "- **Distance to school** and **age** show negative but weak correlations, indicating these factors do not have a strong effect on the score.\r\n"
   ]
  },
  {
   "cell_type": "markdown",
   "id": "72a1cab3-92fa-4259-befc-13d3f0459f40",
   "metadata": {},
   "source": [
    "## Data preprocessing"
   ]
  },
  {
   "cell_type": "code",
   "execution_count": 14,
   "id": "ae113f0f-8b55-4cba-b07f-45481f0b4c53",
   "metadata": {},
   "outputs": [],
   "source": [
    "x = df[num_cols].drop(\"score\",axis=1)  ## independent variables\n",
    "y = df[\"score\"]  ## dependent variable"
   ]
  },
  {
   "cell_type": "code",
   "execution_count": 15,
   "id": "7bc3609f-c5a2-4690-9647-280678260c81",
   "metadata": {},
   "outputs": [
    {
     "name": "stdout",
     "output_type": "stream",
     "text": [
      "(3999, 6) (3999,)\n"
     ]
    }
   ],
   "source": [
    "x_train,x_test, y_train,y_test = train_test_split(x,y,test_size = .2, random_state = 45)  ## splitting data inot training and testing sets \n",
    "print(x_train.shape, y_train.shape)"
   ]
  },
  {
   "cell_type": "markdown",
   "id": "4b6c92c4-dbed-4067-b600-5df430edc622",
   "metadata": {},
   "source": [
    "## Machine Learning "
   ]
  },
  {
   "cell_type": "markdown",
   "id": "13efc71c-f93d-4dd7-aa36-e702b0955e69",
   "metadata": {},
   "source": [
    "### Linear Regression"
   ]
  },
  {
   "cell_type": "code",
   "execution_count": 16,
   "id": "f861ef7e-ac91-4be4-8c91-2baf5c8e545f",
   "metadata": {},
   "outputs": [],
   "source": [
    "lr = LinearRegression()  ## definining the linear regression model\n",
    "lr_model = lr.fit(x_train,y_train)  ## training the linear regression with the trained set\n",
    "lr_predict = lr_model.predict(x_test)  ## predicting the testing test using the trained model\n",
    "lr_r2 = r2_score(y_test,lr_predict)\n",
    "lr_coef = lr_model.coef_\n",
    "lr_intercept = lr_model.intercept_\n",
    "lr_mae = mean_absolute_error(y_test, lr_predict).astype(int)\n",
    "lr_mape = (mean_absolute_percentage_error(y_test, lr_predict)*100).astype(int)"
   ]
  },
  {
   "cell_type": "markdown",
   "id": "b879e583-bbe8-4c06-8417-33a81931933f",
   "metadata": {},
   "source": [
    "## Decision Tree Regressor Model"
   ]
  },
  {
   "cell_type": "code",
   "execution_count": 17,
   "id": "e9a19028-20f0-4815-9fc0-5096a78ccf13",
   "metadata": {},
   "outputs": [],
   "source": [
    "tree = DecisionTreeRegressor()\n",
    "tree_model = tree.fit(x_train, y_train)\n",
    "tree_predict = tree_model.predict(x_test)\n",
    "tree_r2 = r2_score(y_test,tree_predict)\n",
    "tree_mae = mean_absolute_error(y_test, tree_predict).astype(int)\n",
    "tree_mape = (mean_absolute_percentage_error(y_test, tree_predict)*100).astype(int)\n"
   ]
  },
  {
   "cell_type": "markdown",
   "id": "eadd10f5-6bf5-48e5-90db-2ec83902b203",
   "metadata": {},
   "source": [
    "## Random Forest Regressor Model"
   ]
  },
  {
   "cell_type": "code",
   "execution_count": 18,
   "id": "54fd6cd0-e22a-48f4-a008-4ef7d23ec495",
   "metadata": {},
   "outputs": [
    {
     "name": "stdout",
     "output_type": "stream",
     "text": [
      "The MAE and MAPE are (34, 21) respectively\n"
     ]
    }
   ],
   "source": [
    "rf = RandomForestRegressor()\n",
    "rf_model = rf.fit(x_train, y_train)\n",
    "rf_predict = rf_model.predict(x_test)\n",
    "rf_r2 = r2_score(y_test, rf_predict)\n",
    "rf_mae = mean_absolute_error(y_test, rf_predict).astype(int)\n",
    "rf_mape = (mean_absolute_percentage_error(y_test, rf_predict)*100).astype(int)\n",
    "print(f\"The MAE and MAPE are {rf_mae, rf_mape} respectively\")"
   ]
  },
  {
   "cell_type": "markdown",
   "id": "c5d6aefe-2ab8-4ae6-b29d-9ebbc405d4fb",
   "metadata": {},
   "source": [
    "## Xgboost Regressor Model"
   ]
  },
  {
   "cell_type": "code",
   "execution_count": 19,
   "id": "b4bddfa8-54b1-4077-97d0-aaa2efe19cda",
   "metadata": {},
   "outputs": [
    {
     "name": "stdout",
     "output_type": "stream",
     "text": [
      "The  MAE and MAPE are (36, 22) respectively\n"
     ]
    }
   ],
   "source": [
    "xgb = XGBRegressor()\n",
    "xgb_model = xgb.fit(x_train, y_train)\n",
    "xgb_predict = xgb_model.predict(x_test)\n",
    "xgb_r2 = r2_score(y_test, xgb_predict)\n",
    "xgb_mae = mean_absolute_error(y_test, xgb_predict).astype(int)\n",
    "xgb_mape = (mean_absolute_percentage_error(y_test, xgb_predict)*100).astype(int)\n",
    "print(f\"The  MAE and MAPE are {xgb_mae, xgb_mape} respectively\")"
   ]
  },
  {
   "cell_type": "markdown",
   "id": "f9828653-8924-4fc7-87ba-88b2e231850d",
   "metadata": {},
   "source": [
    "## Model Evaluation"
   ]
  },
  {
   "cell_type": "code",
   "execution_count": 20,
   "id": "837bcb1a-b25e-4ae6-9b52-8a7929f32648",
   "metadata": {},
   "outputs": [
    {
     "name": "stdout",
     "output_type": "stream",
     "text": [
      "                     Model  R Squared  MAE  MAPE\n",
      "0        Linear Regression   0.262049   33    20\n",
      "1  Decision Tree Regressor  -0.384281   45    27\n",
      "2  Random Forest Regressor   0.220451   34    21\n",
      "3        Xgboost Regressor   0.119116   36    22\n"
     ]
    }
   ],
   "source": [
    "evaluation = {\n",
    "    \"Model\": [\"Linear Regression\", \"Decision Tree Regressor\",\"Random Forest Regressor\", \"Xgboost Regressor\"],\n",
    "    \"R Squared\": [lr_r2,tree_r2,rf_r2,xgb_r2],\n",
    "    \"MAE\": [lr_mae,tree_mae,rf_mae,xgb_mae],\n",
    "    \"MAPE\": [lr_mape, tree_mape, rf_mape, xgb_mape]\n",
    "}\n",
    "evaluation_table = pd.DataFrame(evaluation)\n",
    "print(evaluation_table)"
   ]
  },
  {
   "cell_type": "markdown",
   "id": "77899844-eb13-4926-abd4-95a2f55ee2a0",
   "metadata": {},
   "source": [
    "## Regression Model Performance Comparison\n",
    "\n",
    "In this notebook, we evaluate the performance of four regression models:\n",
    "- **Linear Regression**\n",
    "- **Decision Tree Regressor**\n",
    "- **Random Forest Regressor**\n",
    "- **XGBoost Regressor**\n",
    "\n",
    "We will assess these models using the following evaluation metrics:\n",
    "- **R² (R Squared)**: A measure of how well the regression model explains the variance in the data. A higher value is better.\n",
    "- **MAE (Mean Absolute Error)**: The average absolute difference between the predicted and actual values. A lower value is better.\n",
    "- **MAPE (Mean Absolute Percentage Error)**: The average percentage difference between the predicted and actual values. A lower value is better.\n",
    "\n",
    "### 1. Linear Regression\n",
    "- **R²**: 0.262\n",
    "- **MAE**: 33\n",
    "- **MAPE**: 20%\n",
    "\n",
    "**Interpretation**: This model explains 26.2% of the variance in the data, with an average error of 33 units and a 20% percentage error. It performs reasonably well.\n",
    "\n",
    "### 2. Decision Tree Regressor\n",
    "- **R²**: -0.383\n",
    "- **MAE**: 45\n",
    "- **MAPE**: 27%\n",
    "\n",
    "**Interpretation**: A negative R² means that the model is performing worse than a simple mean-based prediction. It has a higher error (45 units) and a higher percentage error (27%), making it the least effective model.\n",
    "\n",
    "### 3. Random Forest Regressor\n",
    "- **R²**: 0.217\n",
    "- **MAE**: 34\n",
    "- **MAPE**: 21%\n",
    "\n",
    "**Interpretation**: This model explains 21.7% of the variance in the data. While it performs slightly worse than linear regression, it still achieves a reasonable level of accuracy with an average error of 34 units.\n",
    "\n",
    "### 4. XGBoost Regressor\n",
    "- **R²**: 0.119\n",
    "- **MAE**: 36\n",
    "- **MAPE**: 22%\n",
    "\n",
    "**Interpretation**: This model explains 11.9% of the variance and has an average error of 36 units, making it slightly worse than random forest but better than the decision tree.\n",
    "\n",
    "\n",
    "### Conclusion\n",
    "Based on the results, **Linear Regression** is the best-performing model, explaining 26.2% of the variance and achieving the lowest errors. **Random Forest** is the second-best model, followed by **XGBoost**, while **Decision Tree** performs the worst.\n",
    "\n",
    "In future iterations, we can further improve model performance by tuning hyperparameters, performing feature selection, or using more advanced ensemble methods.\n"
   ]
  },
  {
   "cell_type": "markdown",
   "id": "b0af9236-0dae-4b63-8389-ad6b3b02d2d8",
   "metadata": {},
   "source": [
    "## Feature Importance"
   ]
  },
  {
   "cell_type": "code",
   "execution_count": 21,
   "id": "26e5cf2e-75b0-431c-a1bb-82173660caba",
   "metadata": {},
   "outputs": [
    {
     "name": "stdout",
     "output_type": "stream",
     "text": [
      "               Variables  Importance\n",
      "0                    age   -0.617494\n",
      "1   study_hours_per_week    1.747481\n",
      "2        attendance_rate    1.041210\n",
      "3        teacher_quality   11.636238\n",
      "4     distance_to_school   -0.713211\n",
      "5  assignments_completed    1.149821\n"
     ]
    }
   ],
   "source": [
    "lr_importance = {\n",
    "    \"Variables\": x.columns,\n",
    "    \"Importance\": lr_coef\n",
    "}\n",
    "lr_importance_table = pd.DataFrame(lr_importance)\n",
    "print(lr_importance_table)"
   ]
  },
  {
   "cell_type": "markdown",
   "id": "40c6c873-dfb9-4b56-93ae-dae8ab134b01",
   "metadata": {},
   "source": [
    "## Insights:\n",
    "- **Teacher quality** has the highest positive importance, suggesting it is the most influential factor in determining the score.\n",
    "- **Study hours per week** and **assignments completed** also have positive importance, indicating that they contribute positively to the model.\n",
    "- **Age** and **distance to school** have negative importance, indicating a slight negative relationship with the target variable."
   ]
  },
  {
   "cell_type": "code",
   "execution_count": null,
   "id": "30f9ba5b-bc85-4fdb-9cb3-eff56817d1cd",
   "metadata": {},
   "outputs": [],
   "source": []
  }
 ],
 "metadata": {
  "kernelspec": {
   "display_name": "Python 3 (ipykernel)",
   "language": "python",
   "name": "python3"
  },
  "language_info": {
   "codemirror_mode": {
    "name": "ipython",
    "version": 3
   },
   "file_extension": ".py",
   "mimetype": "text/x-python",
   "name": "python",
   "nbconvert_exporter": "python",
   "pygments_lexer": "ipython3",
   "version": "3.11.4"
  }
 },
 "nbformat": 4,
 "nbformat_minor": 5
}
